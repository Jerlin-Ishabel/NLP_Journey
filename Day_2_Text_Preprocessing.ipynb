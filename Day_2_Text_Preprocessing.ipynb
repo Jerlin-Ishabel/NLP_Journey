{
 "cells": [
  {
   "cell_type": "markdown",
   "id": "e3028463-9573-4683-b7bb-bbcb5416f63e",
   "metadata": {},
   "source": [
    "#  preprocessing(Main Task for Day 2)"
   ]
  },
  {
   "cell_type": "code",
   "execution_count": 6,
   "id": "dc9a3927-49dd-41d8-82b9-b85197e530c1",
   "metadata": {},
   "outputs": [
    {
     "name": "stdout",
     "output_type": "stream",
     "text": [
      "Cleaned Tokens: ['heyyy', 'im', 'ishaa', 'learning', 'nlp', '100', 'amazing']\n",
      "Stemmed: ['heyyy', 'im', 'ishaa', 'learn', 'nlp', '100', 'amaz']\n",
      "Lemmatized: ['heyyy', 'im', 'ishaa', 'learning', 'nlp', '100', 'amazing']\n"
     ]
    }
   ],
   "source": [
    "import nltk\n",
    "import string\n",
    "from nltk.corpus import stopwords\n",
    "from nltk.tokenize import word_tokenize\n",
    "from nltk.stem import PorterStemmer, WordNetLemmatizer\n",
    "import re\n",
    "\n",
    "\n",
    "text = \"Heyyy!!! I'm Ishaa... Learning NLP at 100%. It's AMAZING \"\n",
    "\n",
    "# Lowercase\n",
    "text = text.lower()\n",
    "\n",
    "# Remove punctuation\n",
    "text = text.translate(str.maketrans('', '', string.punctuation))\n",
    "\n",
    "# Tokenization\n",
    "tokens = word_tokenize(text)\n",
    "\n",
    "# Stopword Removal\n",
    "stop_words = set(stopwords.words('english'))\n",
    "tokens = [word for word in tokens if word not in stop_words]\n",
    "\n",
    "# Stemming\n",
    "stemmer = PorterStemmer()\n",
    "stemmed = [stemmer.stem(word) for word in tokens]\n",
    "\n",
    "# Lemmatization\n",
    "lemmatizer = WordNetLemmatizer()\n",
    "lemmatized = [lemmatizer.lemmatize(word) for word in tokens]\n",
    "\n",
    "# Final Output\n",
    "print(\"Cleaned Tokens:\", tokens)\n",
    "print(\"Stemmed:\", stemmed)\n",
    "print(\"Lemmatized:\", lemmatized)\n",
    "\n"
   ]
  }
 ],
 "metadata": {
  "kernelspec": {
   "display_name": "Python 3 (ipykernel)",
   "language": "python",
   "name": "python3"
  },
  "language_info": {
   "codemirror_mode": {
    "name": "ipython",
    "version": 3
   },
   "file_extension": ".py",
   "mimetype": "text/x-python",
   "name": "python",
   "nbconvert_exporter": "python",
   "pygments_lexer": "ipython3",
   "version": "3.13.0"
  }
 },
 "nbformat": 4,
 "nbformat_minor": 5
}
